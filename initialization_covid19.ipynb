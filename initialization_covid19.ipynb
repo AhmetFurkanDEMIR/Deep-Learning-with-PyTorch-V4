{
 "cells": [
  {
   "cell_type": "code",
   "execution_count": 246,
   "metadata": {
    "colab": {
     "base_uri": "https://localhost:8080/",
     "height": 34
    },
    "colab_type": "code",
    "id": "ZKybG-jSVD42",
    "outputId": "405fdbf2-0eee-4ca2-e708-90aa2f624d28"
   },
   "outputs": [
    {
     "name": "stdout",
     "output_type": "stream",
     "text": [
      "Requirement already satisfied: torchsummary in /usr/local/lib/python3.6/dist-packages (1.5.1)\n"
     ]
    }
   ],
   "source": [
    "import torch\n",
    "import torch.nn as nn\n",
    "import torch.optim as optim\n",
    "import torch.utils.data\n",
    "import torch.nn.functional as F\n",
    "import torchvision\n",
    "from torchvision import transforms\n",
    "from PIL import Image\n",
    "import imutils\n",
    "import os\n",
    "import numpy as np\n",
    "from PIL import Image\n",
    "from matplotlib import pyplot as plt\n",
    "from random import shuffle\n",
    "!pip3 install torchsummary\n",
    "from torchsummary import summary\n",
    "import torch.nn.init as init\n",
    "import math"
   ]
  },
  {
   "cell_type": "code",
   "execution_count": 247,
   "metadata": {
    "colab": {
     "base_uri": "https://localhost:8080/",
     "height": 364
    },
    "colab_type": "code",
    "id": "ABim4Hd04PoT",
    "outputId": "6225d652-cce6-4e4e-df01-c3755dd8bad9"
   },
   "outputs": [
    {
     "name": "stdout",
     "output_type": "stream",
     "text": [
      "Thu Sep 24 08:47:57 2020       \n",
      "+-----------------------------------------------------------------------------+\n",
      "| NVIDIA-SMI 450.66       Driver Version: 418.67       CUDA Version: 10.1     |\n",
      "|-------------------------------+----------------------+----------------------+\n",
      "| GPU  Name        Persistence-M| Bus-Id        Disp.A | Volatile Uncorr. ECC |\n",
      "| Fan  Temp  Perf  Pwr:Usage/Cap|         Memory-Usage | GPU-Util  Compute M. |\n",
      "|                               |                      |               MIG M. |\n",
      "|===============================+======================+======================|\n",
      "|   0  Tesla V100-SXM2...  Off  | 00000000:00:04.0 Off |                    0 |\n",
      "| N/A   43C    P0    42W / 300W |  16109MiB / 16130MiB |      0%      Default |\n",
      "|                               |                      |                 ERR! |\n",
      "+-------------------------------+----------------------+----------------------+\n",
      "                                                                               \n",
      "+-----------------------------------------------------------------------------+\n",
      "| Processes:                                                                  |\n",
      "|  GPU   GI   CI        PID   Type   Process name                  GPU Memory |\n",
      "|        ID   ID                                                   Usage      |\n",
      "|=============================================================================|\n",
      "|  No running processes found                                                 |\n",
      "+-----------------------------------------------------------------------------+\n"
     ]
    }
   ],
   "source": [
    "!nvidia-smi"
   ]
  },
  {
   "cell_type": "code",
   "execution_count": 248,
   "metadata": {
    "colab": {
     "base_uri": "https://localhost:8080/",
     "height": 34
    },
    "colab_type": "code",
    "id": "d7nSrozOKxu4",
    "outputId": "f9b0e0f9-b42d-41f1-da10-e735d8d5fdf9"
   },
   "outputs": [
    {
     "name": "stdout",
     "output_type": "stream",
     "text": [
      "/content/drive/My Drive/veria\n"
     ]
    }
   ],
   "source": [
    "%cd /content/drive/My Drive/veria"
   ]
  },
  {
   "cell_type": "code",
   "execution_count": 249,
   "metadata": {
    "colab": {
     "base_uri": "https://localhost:8080/",
     "height": 35
    },
    "colab_type": "code",
    "id": "tZHrafHWK5Xu",
    "outputId": "842c2dde-895a-4839-af16-afcbdda08a56"
   },
   "outputs": [
    {
     "data": {
      "application/vnd.google.colaboratory.intrinsic+json": {
       "type": "string"
      },
      "text/plain": [
       "'import os\\n\\nos.system(\"unrar x Covid19.rar\")\\n'"
      ]
     },
     "execution_count": 249,
     "metadata": {
      "tags": []
     },
     "output_type": "execute_result"
    }
   ],
   "source": [
    "\"\"\"import os\n",
    "\n",
    "os.system(\"unrar x Covid19.rar\")\n",
    "\"\"\""
   ]
  },
  {
   "cell_type": "code",
   "execution_count": 250,
   "metadata": {
    "colab": {
     "base_uri": "https://localhost:8080/",
     "height": 34
    },
    "colab_type": "code",
    "id": "3VKKqSKVMWI_",
    "outputId": "6cee3fbe-c119-48c6-eb8a-3064ac54f2db"
   },
   "outputs": [
    {
     "name": "stdout",
     "output_type": "stream",
     "text": [
      "Covid19  Covid19.rar\n"
     ]
    }
   ],
   "source": [
    "!ls"
   ]
  },
  {
   "cell_type": "code",
   "execution_count": 251,
   "metadata": {
    "colab": {
     "base_uri": "https://localhost:8080/",
     "height": 34
    },
    "colab_type": "code",
    "id": "1L3GUVmoMXgu",
    "outputId": "3d38c5fe-8a48-4869-893c-bb8088e664dd"
   },
   "outputs": [
    {
     "name": "stdout",
     "output_type": "stream",
     "text": [
      "/content/drive/My Drive/veria/Covid19\n"
     ]
    }
   ],
   "source": [
    "%cd Covid19"
   ]
  },
  {
   "cell_type": "code",
   "execution_count": 252,
   "metadata": {
    "colab": {
     "base_uri": "https://localhost:8080/",
     "height": 34
    },
    "colab_type": "code",
    "id": "O-lI9tJ9PRHo",
    "outputId": "dfce2948-a0ef-4811-c544-d85aac6fdd25"
   },
   "outputs": [
    {
     "name": "stdout",
     "output_type": "stream",
     "text": [
      "/content/drive/My Drive/veria/Covid19/Covid\n"
     ]
    }
   ],
   "source": [
    "%cd Covid"
   ]
  },
  {
   "cell_type": "code",
   "execution_count": 253,
   "metadata": {
    "colab": {
     "base_uri": "https://localhost:8080/",
     "height": 34
    },
    "colab_type": "code",
    "id": "-kJY0N83PTxw",
    "outputId": "81a06555-1d68-4182-bf1b-a86ed1b4a1ec"
   },
   "outputs": [
    {
     "name": "stdout",
     "output_type": "stream",
     "text": [
      "/content/drive/My Drive/veria/Covid19/Covid\n"
     ]
    }
   ],
   "source": [
    "!pwd"
   ]
  },
  {
   "cell_type": "code",
   "execution_count": 254,
   "metadata": {
    "colab": {
     "base_uri": "https://localhost:8080/",
     "height": 1000
    },
    "colab_type": "code",
    "id": "3tAPd2F1PX40",
    "outputId": "2a9e5dfb-15ec-46d9-92ec-8993c79be9a5"
   },
   "outputs": [
    {
     "name": "stdout",
     "output_type": "stream",
     "text": [
      "0.png\t  1244.png  1489.png  1732.png\t1977.png  26.png   513.png  758.png\n",
      "1000.png  1245.png  148.png   1733.png\t1978.png  270.png  514.png  759.png\n",
      "1001.png  1246.png  1490.png  1734.png\t1979.png  271.png  515.png  75.png\n",
      "1002.png  1247.png  1491.png  1735.png\t197.png   272.png  516.png  760.png\n",
      "1003.png  1248.png  1492.png  1736.png\t1980.png  273.png  517.png  761.png\n",
      "1004.png  1249.png  1493.png  1737.png\t1981.png  274.png  518.png  762.png\n",
      "1005.png  124.png   1494.png  1738.png\t1982.png  275.png  519.png  763.png\n",
      "1006.png  1250.png  1495.png  1739.png\t1983.png  276.png  51.png   764.png\n",
      "1007.png  1251.png  1496.png  173.png\t1984.png  277.png  520.png  765.png\n",
      "1008.png  1252.png  1497.png  1740.png\t1985.png  278.png  521.png  766.png\n",
      "1009.png  1253.png  1498.png  1741.png\t1986.png  279.png  522.png  767.png\n",
      "100.png   1254.png  1499.png  1742.png\t1987.png  27.png   523.png  768.png\n",
      "1010.png  1255.png  149.png   1743.png\t1988.png  280.png  524.png  769.png\n",
      "1011.png  1256.png  14.png    1744.png\t1989.png  281.png  525.png  76.png\n",
      "1012.png  1257.png  1500.png  1745.png\t198.png   282.png  526.png  770.png\n",
      "1013.png  1258.png  1501.png  1746.png\t1990.png  283.png  527.png  771.png\n",
      "1014.png  1259.png  1502.png  1747.png\t1991.png  284.png  528.png  772.png\n",
      "1015.png  125.png   1503.png  1748.png\t1992.png  285.png  529.png  773.png\n",
      "1016.png  1260.png  1504.png  1749.png\t1993.png  286.png  52.png   774.png\n",
      "1017.png  1261.png  1505.png  174.png\t1994.png  287.png  530.png  775.png\n",
      "1018.png  1262.png  1506.png  1750.png\t1995.png  288.png  531.png  776.png\n",
      "1019.png  1263.png  1507.png  1751.png\t1996.png  289.png  532.png  777.png\n",
      "101.png   1264.png  1508.png  1752.png\t1997.png  28.png   533.png  778.png\n",
      "1020.png  1265.png  1509.png  1753.png\t1998.png  290.png  534.png  779.png\n",
      "1021.png  1266.png  150.png   1754.png\t1999.png  291.png  535.png  77.png\n",
      "1022.png  1267.png  1510.png  1755.png\t199.png   292.png  536.png  780.png\n",
      "1023.png  1268.png  1511.png  1756.png\t19.png\t  293.png  537.png  781.png\n",
      "1024.png  1269.png  1512.png  1757.png\t1.png\t  294.png  538.png  782.png\n",
      "1025.png  126.png   1513.png  1758.png\t2000.png  295.png  539.png  783.png\n",
      "1026.png  1270.png  1514.png  1759.png\t2001.png  296.png  53.png   784.png\n",
      "1027.png  1271.png  1515.png  175.png\t2002.png  297.png  540.png  785.png\n",
      "1028.png  1272.png  1516.png  1760.png\t2003.png  298.png  541.png  786.png\n",
      "1029.png  1273.png  1517.png  1761.png\t2004.png  299.png  542.png  787.png\n",
      "102.png   1274.png  1518.png  1762.png\t2005.png  29.png   543.png  788.png\n",
      "1030.png  1275.png  1519.png  1763.png\t2006.png  2.png    544.png  789.png\n",
      "1031.png  1276.png  151.png   1764.png\t2007.png  300.png  545.png  78.png\n",
      "1032.png  1277.png  1520.png  1765.png\t2008.png  301.png  546.png  790.png\n",
      "1033.png  1278.png  1521.png  1766.png\t2009.png  302.png  547.png  791.png\n",
      "1034.png  1279.png  1522.png  1767.png\t200.png   303.png  548.png  792.png\n",
      "1035.png  127.png   1523.png  1768.png\t2010.png  304.png  549.png  793.png\n",
      "1036.png  1280.png  1524.png  1769.png\t2011.png  305.png  54.png   794.png\n",
      "1037.png  1281.png  1525.png  176.png\t2012.png  306.png  550.png  795.png\n",
      "1038.png  1282.png  1526.png  1770.png\t2013.png  307.png  551.png  796.png\n",
      "1039.png  1283.png  1527.png  1771.png\t2014.png  308.png  552.png  797.png\n",
      "103.png   1284.png  1528.png  1772.png\t2015.png  309.png  553.png  798.png\n",
      "1040.png  1285.png  1529.png  1773.png\t2016.png  30.png   554.png  799.png\n",
      "1041.png  1286.png  152.png   1774.png\t2017.png  310.png  555.png  79.png\n",
      "1042.png  1287.png  1530.png  1775.png\t2018.png  311.png  556.png  7.png\n",
      "1043.png  1288.png  1531.png  1776.png\t2019.png  312.png  557.png  800.png\n",
      "1044.png  1289.png  1532.png  1777.png\t201.png   313.png  558.png  801.png\n",
      "1045.png  128.png   1533.png  1778.png\t2020.png  314.png  559.png  802.png\n",
      "1046.png  1290.png  1534.png  1779.png\t2021.png  315.png  55.png   803.png\n",
      "1047.png  1291.png  1535.png  177.png\t2022.png  316.png  560.png  804.png\n",
      "1048.png  1292.png  1536.png  1780.png\t2023.png  317.png  561.png  805.png\n",
      "1049.png  1293.png  1537.png  1781.png\t2024.png  318.png  562.png  806.png\n",
      "104.png   1294.png  1538.png  1782.png\t2025.png  319.png  563.png  807.png\n",
      "1050.png  1295.png  1539.png  1783.png\t2026.png  31.png   564.png  808.png\n",
      "1051.png  1296.png  153.png   1784.png\t2027.png  320.png  565.png  809.png\n",
      "1052.png  1297.png  1540.png  1785.png\t2028.png  321.png  566.png  80.png\n",
      "1053.png  1298.png  1541.png  1786.png\t2029.png  322.png  567.png  810.png\n",
      "1054.png  1299.png  1542.png  1787.png\t202.png   323.png  568.png  811.png\n",
      "1055.png  129.png   1543.png  1788.png\t2030.png  324.png  569.png  812.png\n",
      "1056.png  12.png    1544.png  1789.png\t2031.png  325.png  56.png   813.png\n",
      "1057.png  1300.png  1545.png  178.png\t2032.png  326.png  570.png  814.png\n",
      "1058.png  1301.png  1546.png  1790.png\t2033.png  327.png  571.png  815.png\n",
      "1059.png  1302.png  1547.png  1791.png\t2034.png  328.png  572.png  816.png\n",
      "105.png   1303.png  1548.png  1792.png\t2035.png  329.png  573.png  817.png\n",
      "1060.png  1304.png  1549.png  1793.png\t2036.png  32.png   574.png  818.png\n",
      "1061.png  1305.png  154.png   1794.png\t2037.png  330.png  575.png  819.png\n",
      "1062.png  1306.png  1550.png  1795.png\t2038.png  331.png  576.png  81.png\n",
      "1063.png  1307.png  1551.png  1796.png\t2039.png  332.png  577.png  820.png\n",
      "1064.png  1308.png  1552.png  1797.png\t203.png   333.png  578.png  821.png\n",
      "1065.png  1309.png  1553.png  1798.png\t2040.png  334.png  579.png  822.png\n",
      "1066.png  130.png   1554.png  1799.png\t2041.png  335.png  57.png   823.png\n",
      "1067.png  1310.png  1555.png  179.png\t2042.png  336.png  580.png  824.png\n",
      "1068.png  1311.png  1556.png  17.png\t2043.png  337.png  581.png  825.png\n",
      "1069.png  1312.png  1557.png  1800.png\t2044.png  338.png  582.png  826.png\n",
      "106.png   1313.png  1558.png  1801.png\t2045.png  339.png  583.png  827.png\n",
      "1070.png  1314.png  1559.png  1802.png\t2046.png  33.png   584.png  828.png\n",
      "1071.png  1315.png  155.png   1803.png\t2047.png  340.png  585.png  829.png\n",
      "1072.png  1316.png  1560.png  1804.png\t2048.png  341.png  586.png  82.png\n",
      "1073.png  1317.png  1561.png  1805.png\t2049.png  342.png  587.png  830.png\n",
      "1074.png  1318.png  1562.png  1806.png\t204.png   343.png  588.png  831.png\n",
      "1075.png  1319.png  1563.png  1807.png\t2050.png  344.png  589.png  832.png\n",
      "1076.png  131.png   1564.png  1808.png\t2051.png  345.png  58.png   833.png\n",
      "1077.png  1320.png  1565.png  1809.png\t2052.png  346.png  590.png  834.png\n",
      "1078.png  1321.png  1566.png  180.png\t2053.png  347.png  591.png  835.png\n",
      "1079.png  1322.png  1567.png  1810.png\t2054.png  348.png  592.png  836.png\n",
      "107.png   1323.png  1568.png  1811.png\t2055.png  349.png  593.png  837.png\n",
      "1080.png  1324.png  1569.png  1812.png\t2056.png  34.png   594.png  838.png\n",
      "1081.png  1325.png  156.png   1813.png\t2057.png  350.png  595.png  839.png\n",
      "1082.png  1326.png  1570.png  1814.png\t2058.png  351.png  596.png  83.png\n",
      "1083.png  1327.png  1571.png  1815.png\t2059.png  352.png  597.png  840.png\n",
      "1084.png  1328.png  1572.png  1816.png\t205.png   353.png  598.png  841.png\n",
      "1085.png  1329.png  1573.png  1817.png\t2060.png  354.png  599.png  842.png\n",
      "1086.png  132.png   1574.png  1818.png\t2061.png  355.png  59.png   843.png\n",
      "1087.png  1330.png  1575.png  1819.png\t2062.png  356.png  5.png    844.png\n",
      "1088.png  1331.png  1576.png  181.png\t2063.png  357.png  600.png  845.png\n",
      "1089.png  1332.png  1577.png  1820.png\t2064.png  358.png  601.png  846.png\n",
      "108.png   1333.png  1578.png  1821.png\t2065.png  359.png  602.png  847.png\n",
      "1090.png  1334.png  1579.png  1822.png\t2066.png  35.png   603.png  848.png\n",
      "1091.png  1335.png  157.png   1823.png\t2067.png  360.png  604.png  849.png\n",
      "1092.png  1336.png  1580.png  1824.png\t2068.png  361.png  605.png  84.png\n",
      "1093.png  1337.png  1581.png  1825.png\t2069.png  362.png  606.png  850.png\n",
      "1094.png  1338.png  1582.png  1826.png\t206.png   363.png  607.png  851.png\n",
      "1095.png  1339.png  1583.png  1827.png\t2070.png  364.png  608.png  852.png\n",
      "1096.png  133.png   1584.png  1828.png\t2071.png  365.png  609.png  853.png\n",
      "1097.png  1340.png  1585.png  1829.png\t2072.png  366.png  60.png   854.png\n",
      "1098.png  1341.png  1586.png  182.png\t2073.png  367.png  610.png  855.png\n",
      "1099.png  1342.png  1587.png  1830.png\t2074.png  368.png  611.png  856.png\n",
      "109.png   1343.png  1588.png  1831.png\t2075.png  369.png  612.png  857.png\n",
      "10.png\t  1344.png  1589.png  1832.png\t2076.png  36.png   613.png  858.png\n",
      "1100.png  1345.png  158.png   1833.png\t2077.png  370.png  614.png  859.png\n",
      "1101.png  1346.png  1590.png  1834.png\t2078.png  371.png  615.png  85.png\n",
      "1102.png  1347.png  1591.png  1835.png\t2079.png  372.png  616.png  860.png\n",
      "1103.png  1348.png  1592.png  1836.png\t207.png   373.png  617.png  861.png\n",
      "1104.png  1349.png  1593.png  1837.png\t2080.png  374.png  618.png  862.png\n",
      "1105.png  134.png   1594.png  1838.png\t2081.png  375.png  619.png  863.png\n",
      "1106.png  1350.png  1595.png  1839.png\t2082.png  376.png  61.png   864.png\n",
      "1107.png  1351.png  1596.png  183.png\t2083.png  377.png  620.png  865.png\n",
      "1108.png  1352.png  1597.png  1840.png\t2084.png  378.png  621.png  866.png\n",
      "1109.png  1353.png  1598.png  1841.png\t2085.png  379.png  622.png  867.png\n",
      "110.png   1354.png  1599.png  1842.png\t2086.png  37.png   623.png  868.png\n",
      "1110.png  1355.png  159.png   1843.png\t2087.png  380.png  624.png  869.png\n",
      "1111.png  1356.png  15.png    1844.png\t2088.png  381.png  625.png  86.png\n",
      "1112.png  1357.png  1600.png  1845.png\t2089.png  382.png  626.png  870.png\n",
      "1113.png  1358.png  1601.png  1846.png\t208.png   383.png  627.png  871.png\n",
      "1114.png  1359.png  1602.png  1847.png\t2090.png  384.png  628.png  872.png\n",
      "1115.png  135.png   1603.png  1848.png\t2091.png  385.png  629.png  873.png\n",
      "1116.png  1360.png  1604.png  1849.png\t2092.png  386.png  62.png   874.png\n",
      "1117.png  1361.png  1605.png  184.png\t2093.png  387.png  630.png  875.png\n",
      "1118.png  1362.png  1606.png  1850.png\t2094.png  388.png  631.png  876.png\n",
      "1119.png  1363.png  1607.png  1851.png\t2095.png  389.png  632.png  877.png\n",
      "111.png   1364.png  1608.png  1852.png\t2096.png  38.png   633.png  878.png\n",
      "1120.png  1365.png  1609.png  1853.png\t2097.png  390.png  634.png  879.png\n",
      "1121.png  1366.png  160.png   1854.png\t2098.png  391.png  635.png  87.png\n",
      "1122.png  1367.png  1610.png  1855.png\t2099.png  392.png  636.png  880.png\n",
      "1123.png  1368.png  1611.png  1856.png\t209.png   393.png  637.png  881.png\n",
      "1124.png  1369.png  1612.png  1857.png\t20.png\t  394.png  638.png  882.png\n",
      "1125.png  136.png   1613.png  1858.png\t2100.png  395.png  639.png  883.png\n",
      "1126.png  1370.png  1614.png  1859.png\t2101.png  396.png  63.png   884.png\n",
      "1127.png  1371.png  1615.png  185.png\t2102.png  397.png  640.png  885.png\n",
      "1128.png  1372.png  1616.png  1860.png\t2103.png  398.png  641.png  886.png\n",
      "1129.png  1373.png  1617.png  1861.png\t2104.png  399.png  642.png  887.png\n",
      "112.png   1374.png  1618.png  1862.png\t2105.png  39.png   643.png  888.png\n",
      "1130.png  1375.png  1619.png  1863.png\t2106.png  3.png    644.png  889.png\n",
      "1131.png  1376.png  161.png   1864.png\t2107.png  400.png  645.png  88.png\n",
      "1132.png  1377.png  1620.png  1865.png\t2108.png  401.png  646.png  890.png\n",
      "1133.png  1378.png  1621.png  1866.png\t2109.png  402.png  647.png  891.png\n",
      "1134.png  1379.png  1622.png  1867.png\t210.png   403.png  648.png  892.png\n",
      "1135.png  137.png   1623.png  1868.png\t2110.png  404.png  649.png  893.png\n",
      "1136.png  1380.png  1624.png  1869.png\t2111.png  405.png  64.png   894.png\n",
      "1137.png  1381.png  1625.png  186.png\t2112.png  406.png  650.png  895.png\n",
      "1138.png  1382.png  1626.png  1870.png\t2113.png  407.png  651.png  896.png\n",
      "1139.png  1383.png  1627.png  1871.png\t2114.png  408.png  652.png  897.png\n",
      "113.png   1384.png  1628.png  1872.png\t2115.png  409.png  653.png  898.png\n",
      "1140.png  1385.png  1629.png  1873.png\t2116.png  40.png   654.png  899.png\n",
      "1141.png  1386.png  162.png   1874.png\t2117.png  410.png  655.png  89.png\n",
      "1142.png  1387.png  1630.png  1875.png\t2118.png  411.png  656.png  8.png\n",
      "1143.png  1388.png  1631.png  1876.png\t2119.png  412.png  657.png  900.png\n",
      "1144.png  1389.png  1632.png  1877.png\t211.png   413.png  658.png  901.png\n",
      "1145.png  138.png   1633.png  1878.png\t2120.png  414.png  659.png  902.png\n",
      "1146.png  1390.png  1634.png  1879.png\t2121.png  415.png  65.png   903.png\n",
      "1147.png  1391.png  1635.png  187.png\t2122.png  416.png  660.png  904.png\n",
      "1148.png  1392.png  1636.png  1880.png\t2123.png  417.png  661.png  905.png\n",
      "1149.png  1393.png  1637.png  1881.png\t2124.png  418.png  662.png  906.png\n",
      "114.png   1394.png  1638.png  1882.png\t2125.png  419.png  663.png  907.png\n",
      "1150.png  1395.png  1639.png  1883.png\t2126.png  41.png   664.png  908.png\n",
      "1151.png  1396.png  163.png   1884.png\t2127.png  420.png  665.png  909.png\n",
      "1152.png  1397.png  1640.png  1885.png\t2128.png  421.png  666.png  90.png\n",
      "1153.png  1398.png  1641.png  1886.png\t2129.png  422.png  667.png  910.png\n",
      "1154.png  1399.png  1642.png  1887.png\t212.png   423.png  668.png  911.png\n",
      "1155.png  139.png   1643.png  1888.png\t2130.png  424.png  669.png  912.png\n",
      "1156.png  13.png    1644.png  1889.png\t2131.png  425.png  66.png   913.png\n",
      "1157.png  1400.png  1645.png  188.png\t2132.png  426.png  670.png  914.png\n",
      "1158.png  1401.png  1646.png  1890.png\t2133.png  427.png  671.png  915.png\n",
      "1159.png  1402.png  1647.png  1891.png\t2134.png  428.png  672.png  916.png\n",
      "115.png   1403.png  1648.png  1892.png\t2135.png  429.png  673.png  917.png\n",
      "1160.png  1404.png  1649.png  1893.png\t2136.png  42.png   674.png  918.png\n",
      "1161.png  1405.png  164.png   1894.png\t2137.png  430.png  675.png  919.png\n",
      "1162.png  1406.png  1650.png  1895.png\t2138.png  431.png  676.png  91.png\n",
      "1163.png  1407.png  1651.png  1896.png\t2139.png  432.png  677.png  920.png\n",
      "1164.png  1408.png  1652.png  1897.png\t213.png   433.png  678.png  921.png\n",
      "1165.png  1409.png  1653.png  1898.png\t2140.png  434.png  679.png  922.png\n",
      "1166.png  140.png   1654.png  1899.png\t2141.png  435.png  67.png   923.png\n",
      "1167.png  1410.png  1655.png  189.png\t2142.png  436.png  680.png  924.png\n",
      "1168.png  1411.png  1656.png  18.png\t2143.png  437.png  681.png  925.png\n",
      "1169.png  1412.png  1657.png  1900.png\t2144.png  438.png  682.png  926.png\n",
      "116.png   1413.png  1658.png  1901.png\t2145.png  439.png  683.png  927.png\n",
      "1170.png  1414.png  1659.png  1902.png\t2146.png  43.png   684.png  928.png\n",
      "1171.png  1415.png  165.png   1903.png\t2147.png  440.png  685.png  929.png\n",
      "1172.png  1416.png  1660.png  1904.png\t2148.png  441.png  686.png  92.png\n",
      "1173.png  1417.png  1661.png  1905.png\t2149.png  442.png  687.png  930.png\n",
      "1174.png  1418.png  1662.png  1906.png\t214.png   443.png  688.png  931.png\n",
      "1175.png  1419.png  1663.png  1907.png\t2150.png  444.png  689.png  932.png\n",
      "1176.png  141.png   1664.png  1908.png\t2151.png  445.png  68.png   933.png\n",
      "1177.png  1420.png  1665.png  1909.png\t2152.png  446.png  690.png  934.png\n",
      "1178.png  1421.png  1666.png  190.png\t2153.png  447.png  691.png  935.png\n",
      "1179.png  1422.png  1667.png  1910.png\t2154.png  448.png  692.png  936.png\n",
      "117.png   1423.png  1668.png  1911.png\t2155.png  449.png  693.png  937.png\n",
      "1180.png  1424.png  1669.png  1912.png\t2156.png  44.png   694.png  938.png\n",
      "1181.png  1425.png  166.png   1913.png\t2157.png  450.png  695.png  939.png\n",
      "1182.png  1426.png  1670.png  1914.png\t2158.png  451.png  696.png  93.png\n",
      "1183.png  1427.png  1671.png  1915.png\t2159.png  452.png  697.png  940.png\n",
      "1184.png  1428.png  1672.png  1916.png\t215.png   453.png  698.png  941.png\n",
      "1185.png  1429.png  1673.png  1917.png\t2160.png  454.png  699.png  942.png\n",
      "1186.png  142.png   1674.png  1918.png\t2161.png  455.png  69.png   943.png\n",
      "1187.png  1430.png  1675.png  1919.png\t2162.png  456.png  6.png    944.png\n",
      "1188.png  1431.png  1676.png  191.png\t2163.png  457.png  700.png  945.png\n",
      "1189.png  1432.png  1677.png  1920.png\t2164.png  458.png  701.png  946.png\n",
      "118.png   1433.png  1678.png  1921.png\t2165.png  459.png  702.png  947.png\n",
      "1190.png  1434.png  1679.png  1922.png\t2166.png  45.png   703.png  948.png\n",
      "1191.png  1435.png  167.png   1923.png\t216.png   460.png  704.png  949.png\n",
      "1192.png  1436.png  1680.png  1924.png\t217.png   461.png  705.png  94.png\n",
      "1193.png  1437.png  1681.png  1925.png\t218.png   462.png  706.png  950.png\n",
      "1194.png  1438.png  1682.png  1926.png\t219.png   463.png  707.png  951.png\n",
      "1195.png  1439.png  1683.png  1927.png\t21.png\t  464.png  708.png  952.png\n",
      "1196.png  143.png   1684.png  1928.png\t220.png   465.png  709.png  953.png\n",
      "1197.png  1440.png  1685.png  1929.png\t221.png   466.png  70.png   954.png\n",
      "1198.png  1441.png  1686.png  192.png\t222.png   467.png  710.png  955.png\n",
      "1199.png  1442.png  1687.png  1930.png\t223.png   468.png  711.png  956.png\n",
      "119.png   1443.png  1688.png  1931.png\t224.png   469.png  712.png  957.png\n",
      "11.png\t  1444.png  1689.png  1932.png\t225.png   46.png   713.png  958.png\n",
      "1200.png  1445.png  168.png   1933.png\t226.png   470.png  714.png  959.png\n",
      "1201.png  1446.png  1690.png  1934.png\t227.png   471.png  715.png  95.png\n",
      "1202.png  1447.png  1691.png  1935.png\t228.png   472.png  716.png  960.png\n",
      "1203.png  1448.png  1692.png  1936.png\t229.png   473.png  717.png  961.png\n",
      "1204.png  1449.png  1693.png  1937.png\t22.png\t  474.png  718.png  962.png\n",
      "1205.png  144.png   1694.png  1938.png\t230.png   475.png  719.png  963.png\n",
      "1206.png  1450.png  1695.png  1939.png\t231.png   476.png  71.png   964.png\n",
      "1207.png  1451.png  1696.png  193.png\t232.png   477.png  720.png  965.png\n",
      "1208.png  1452.png  1697.png  1940.png\t233.png   478.png  721.png  966.png\n",
      "1209.png  1453.png  1698.png  1941.png\t234.png   479.png  722.png  967.png\n",
      "120.png   1454.png  1699.png  1942.png\t235.png   47.png   723.png  968.png\n",
      "1210.png  1455.png  169.png   1943.png\t236.png   480.png  724.png  969.png\n",
      "1211.png  1456.png  16.png    1944.png\t237.png   481.png  725.png  96.png\n",
      "1212.png  1457.png  1700.png  1945.png\t238.png   482.png  726.png  970.png\n",
      "1213.png  1458.png  1701.png  1946.png\t239.png   483.png  727.png  971.png\n",
      "1214.png  1459.png  1702.png  1947.png\t23.png\t  484.png  728.png  972.png\n",
      "1215.png  145.png   1703.png  1948.png\t240.png   485.png  729.png  973.png\n",
      "1216.png  1460.png  1704.png  1949.png\t241.png   486.png  72.png   974.png\n",
      "1217.png  1461.png  1705.png  194.png\t242.png   487.png  730.png  975.png\n",
      "1218.png  1462.png  1706.png  1950.png\t243.png   488.png  731.png  976.png\n",
      "1219.png  1463.png  1707.png  1951.png\t244.png   489.png  732.png  977.png\n",
      "121.png   1464.png  1708.png  1952.png\t245.png   48.png   733.png  978.png\n",
      "1220.png  1465.png  1709.png  1953.png\t246.png   490.png  734.png  979.png\n",
      "1221.png  1466.png  170.png   1954.png\t247.png   491.png  735.png  97.png\n",
      "1222.png  1467.png  1710.png  1955.png\t248.png   492.png  736.png  980.png\n",
      "1223.png  1468.png  1711.png  1956.png\t249.png   493.png  737.png  981.png\n",
      "1224.png  1469.png  1712.png  1957.png\t24.png\t  494.png  738.png  982.png\n",
      "1225.png  146.png   1713.png  1958.png\t250.png   495.png  739.png  983.png\n",
      "1226.png  1470.png  1714.png  1959.png\t251.png   496.png  73.png   984.png\n",
      "1227.png  1471.png  1715.png  195.png\t252.png   497.png  740.png  985.png\n",
      "1228.png  1472.png  1716.png  1960.png\t253.png   498.png  741.png  986.png\n",
      "1229.png  1473.png  1717.png  1961.png\t254.png   499.png  742.png  987.png\n",
      "122.png   1474.png  1718.png  1962.png\t255.png   49.png   743.png  988.png\n",
      "1230.png  1475.png  1719.png  1963.png\t256.png   4.png    744.png  989.png\n",
      "1231.png  1476.png  171.png   1964.png\t257.png   500.png  745.png  98.png\n",
      "1232.png  1477.png  1720.png  1965.png\t258.png   501.png  746.png  990.png\n",
      "1233.png  1478.png  1721.png  1966.png\t259.png   502.png  747.png  991.png\n",
      "1234.png  1479.png  1722.png  1967.png\t25.png\t  503.png  748.png  992.png\n",
      "1235.png  147.png   1723.png  1968.png\t260.png   504.png  749.png  993.png\n",
      "1236.png  1480.png  1724.png  1969.png\t261.png   505.png  74.png   994.png\n",
      "1237.png  1481.png  1725.png  196.png\t262.png   506.png  750.png  995.png\n",
      "1238.png  1482.png  1726.png  1970.png\t263.png   507.png  751.png  996.png\n",
      "1239.png  1483.png  1727.png  1971.png\t264.png   508.png  752.png  997.png\n",
      "123.png   1484.png  1728.png  1972.png\t265.png   509.png  753.png  998.png\n",
      "1240.png  1485.png  1729.png  1973.png\t266.png   50.png   754.png  999.png\n",
      "1241.png  1486.png  172.png   1974.png\t267.png   510.png  755.png  99.png\n",
      "1242.png  1487.png  1730.png  1975.png\t268.png   511.png  756.png  9.png\n",
      "1243.png  1488.png  1731.png  1976.png\t269.png   512.png  757.png\n"
     ]
    }
   ],
   "source": [
    "!ls"
   ]
  },
  {
   "cell_type": "code",
   "execution_count": 255,
   "metadata": {
    "colab": {},
    "colab_type": "code",
    "id": "7aFHR0MWRtQl"
   },
   "outputs": [],
   "source": [
    "path = !pwd"
   ]
  },
  {
   "cell_type": "code",
   "execution_count": 256,
   "metadata": {
    "colab": {},
    "colab_type": "code",
    "id": "xgdK_1aUSRXb"
   },
   "outputs": [],
   "source": [
    "path = path[0]"
   ]
  },
  {
   "cell_type": "code",
   "execution_count": 257,
   "metadata": {
    "colab": {},
    "colab_type": "code",
    "id": "jjhVZpj8SSNG"
   },
   "outputs": [],
   "source": [
    "test = Image.open(path + \"/1.png\")"
   ]
  },
  {
   "cell_type": "code",
   "execution_count": 258,
   "metadata": {
    "colab": {
     "base_uri": "https://localhost:8080/",
     "height": 286
    },
    "colab_type": "code",
    "id": "DVsRtXX8SYra",
    "outputId": "f92d8c1a-d52e-42c7-f008-292004028bf9"
   },
   "outputs": [
    {
     "data": {
      "text/plain": [
       "<matplotlib.image.AxesImage at 0x7f57796596d8>"
      ]
     },
     "execution_count": 258,
     "metadata": {
      "tags": []
     },
     "output_type": "execute_result"
    },
    {
     "data": {
      "image/png": "[encoded data removed]",
      "text/plain": [
       "<Figure size 432x288 with 1 Axes>"
      ]
     },
     "metadata": {
      "needs_background": "light",
      "tags": []
     },
     "output_type": "display_data"
    }
   ],
   "source": [
    "plt.imshow(test)"
   ]
  },
  {
   "cell_type": "code",
   "execution_count": 259,
   "metadata": {
    "colab": {
     "base_uri": "https://localhost:8080/",
     "height": 52
    },
    "colab_type": "code",
    "id": "TYGXmYtqUOVx",
    "outputId": "2d6c004d-c685-4fe7-a3e4-176b7df084e2"
   },
   "outputs": [
    {
     "name": "stdout",
     "output_type": "stream",
     "text": [
      "/content/drive/My Drive/veria/Covid19\n",
      "Covid  Healthy\tOthers\n"
     ]
    }
   ],
   "source": [
    "%cd ..\n",
    "!ls\n",
    "\n",
    "path = !pwd\n",
    "path = path[0]\n",
    "covid_data_path = path + \"/Covid\"\n",
    "healthy_data_path = path + \"/Healthy\"\n",
    "others_data_path = path + \"/Others\""
   ]
  },
  {
   "cell_type": "code",
   "execution_count": 260,
   "metadata": {
    "colab": {},
    "colab_type": "code",
    "id": "SscXaPvZU1Ye"
   },
   "outputs": [],
   "source": [
    "covid_data = [torch.tensor(np.array(Image.open(covid_data_path+\"/\"+img)), dtype = torch.float32).view(3,150,150) for img in os.listdir(covid_data_path)]"
   ]
  },
  {
   "cell_type": "code",
   "execution_count": 261,
   "metadata": {
    "colab": {
     "base_uri": "https://localhost:8080/",
     "height": 52
    },
    "colab_type": "code",
    "id": "MFCMvJhMUi7K",
    "outputId": "af820eea-98f5-4cb4-9332-b942a904250b"
   },
   "outputs": [
    {
     "name": "stdout",
     "output_type": "stream",
     "text": [
      "torch.Size([3, 150, 150])\n",
      "2167\n"
     ]
    }
   ],
   "source": [
    "print(covid_data[0].shape)\n",
    "print(len(covid_data))"
   ]
  },
  {
   "cell_type": "code",
   "execution_count": 262,
   "metadata": {
    "colab": {},
    "colab_type": "code",
    "id": "cK7x7UawUeLn"
   },
   "outputs": [],
   "source": [
    "healthy_data =[torch.tensor(np.array(Image.open(healthy_data_path+\"/\"+img)), dtype = torch.float32).view(3,150,150) for img in os.listdir(healthy_data_path)]"
   ]
  },
  {
   "cell_type": "code",
   "execution_count": 263,
   "metadata": {
    "colab": {
     "base_uri": "https://localhost:8080/",
     "height": 52
    },
    "colab_type": "code",
    "id": "ITPEfjBgYvhv",
    "outputId": "f3b4264d-15ed-4282-fc56-31fc13043e0c"
   },
   "outputs": [
    {
     "name": "stdout",
     "output_type": "stream",
     "text": [
      "torch.Size([3, 150, 150])\n",
      "757\n"
     ]
    }
   ],
   "source": [
    "print(healthy_data[0].shape)\n",
    "print(len(healthy_data))"
   ]
  },
  {
   "cell_type": "code",
   "execution_count": 264,
   "metadata": {
    "colab": {},
    "colab_type": "code",
    "id": "S3aEAXiZY1Ks"
   },
   "outputs": [],
   "source": [
    "others_data =[torch.tensor(np.array(Image.open(others_data_path+\"/\"+img)), dtype = torch.float32).view(3,150,150) for img in os.listdir(others_data_path)]"
   ]
  },
  {
   "cell_type": "code",
   "execution_count": 265,
   "metadata": {
    "colab": {
     "base_uri": "https://localhost:8080/",
     "height": 52
    },
    "colab_type": "code",
    "id": "zpL45b6ZY6t4",
    "outputId": "de028644-dee9-4c9b-9980-8679c85ed2d7"
   },
   "outputs": [
    {
     "name": "stdout",
     "output_type": "stream",
     "text": [
      "torch.Size([3, 150, 150])\n",
      "1247\n"
     ]
    }
   ],
   "source": [
    "print(others_data[0].shape)\n",
    "print(len(others_data))"
   ]
  },
  {
   "cell_type": "code",
   "execution_count": 266,
   "metadata": {
    "colab": {},
    "colab_type": "code",
    "id": "4d-FHHySZvVl"
   },
   "outputs": [],
   "source": [
    "shuffle(covid_data)"
   ]
  },
  {
   "cell_type": "code",
   "execution_count": 267,
   "metadata": {
    "colab": {},
    "colab_type": "code",
    "id": "xOlfd5ViZzBi"
   },
   "outputs": [],
   "source": [
    "shuffle(healthy_data)"
   ]
  },
  {
   "cell_type": "code",
   "execution_count": 268,
   "metadata": {
    "colab": {},
    "colab_type": "code",
    "id": "Ao7v82DVZz8E"
   },
   "outputs": [],
   "source": [
    "shuffle(others_data)"
   ]
  },
  {
   "cell_type": "code",
   "execution_count": 269,
   "metadata": {
    "colab": {},
    "colab_type": "code",
    "id": "6LE4a-yC1ylf"
   },
   "outputs": [],
   "source": [
    "covid_data = torch.stack(covid_data) / 255\n",
    "healthy_data = torch.stack(healthy_data) / 255\n",
    "others_data = torch.stack(others_data) / 255"
   ]
  },
  {
   "cell_type": "code",
   "execution_count": 270,
   "metadata": {
    "colab": {},
    "colab_type": "code",
    "id": "e2_tlqgj2YAv"
   },
   "outputs": [],
   "source": [
    "covid = []\n",
    "healthy = []\n",
    "others = []\n",
    "\n",
    "for i in covid_data:\n",
    "  covid.append(tuple((i, 0)))\n",
    "\n",
    "for i in healthy_data:\n",
    "  healthy.append(tuple((i, 1)))\n",
    "\n",
    "for i in others_data:\n",
    "  others.append(tuple((i, 2)))"
   ]
  },
  {
   "cell_type": "code",
   "execution_count": 271,
   "metadata": {
    "colab": {},
    "colab_type": "code",
    "id": "5MmmNuLXZ0c7"
   },
   "outputs": [],
   "source": [
    "train_covid = covid[0:1500]"
   ]
  },
  {
   "cell_type": "code",
   "execution_count": 272,
   "metadata": {
    "colab": {},
    "colab_type": "code",
    "id": "hD4Dg9AOaGDp"
   },
   "outputs": [],
   "source": [
    "val_covid = covid[1500:2167]"
   ]
  },
  {
   "cell_type": "code",
   "execution_count": 273,
   "metadata": {
    "colab": {
     "base_uri": "https://localhost:8080/",
     "height": 34
    },
    "colab_type": "code",
    "id": "KRlCe7qBaMQD",
    "outputId": "bec02b28-4022-48d7-fac0-6bf2ce6ca928"
   },
   "outputs": [
    {
     "name": "stdout",
     "output_type": "stream",
     "text": [
      "1500 667\n"
     ]
    }
   ],
   "source": [
    "print(len(train_covid), len(val_covid))"
   ]
  },
  {
   "cell_type": "code",
   "execution_count": 274,
   "metadata": {
    "colab": {},
    "colab_type": "code",
    "id": "dICpuLNWaRSR"
   },
   "outputs": [],
   "source": [
    "train_healthy = healthy[0:500]"
   ]
  },
  {
   "cell_type": "code",
   "execution_count": 275,
   "metadata": {
    "colab": {},
    "colab_type": "code",
    "id": "K45g-SQ1afVG"
   },
   "outputs": [],
   "source": [
    "val_healthy = healthy[500:757]"
   ]
  },
  {
   "cell_type": "code",
   "execution_count": 276,
   "metadata": {
    "colab": {
     "base_uri": "https://localhost:8080/",
     "height": 34
    },
    "colab_type": "code",
    "id": "U1Xbiy56ajxK",
    "outputId": "7f68625c-7044-4c43-e66c-d2ea9ede11a7"
   },
   "outputs": [
    {
     "name": "stdout",
     "output_type": "stream",
     "text": [
      "500 257\n"
     ]
    }
   ],
   "source": [
    "print(len(train_healthy), len(val_healthy))"
   ]
  },
  {
   "cell_type": "code",
   "execution_count": 277,
   "metadata": {
    "colab": {},
    "colab_type": "code",
    "id": "XTp5a6ScaoZ6"
   },
   "outputs": [],
   "source": [
    "train_others = others[0:900]"
   ]
  },
  {
   "cell_type": "code",
   "execution_count": 278,
   "metadata": {
    "colab": {},
    "colab_type": "code",
    "id": "Lj24U_33azvt"
   },
   "outputs": [],
   "source": [
    "val_others = others[900:1247]"
   ]
  },
  {
   "cell_type": "code",
   "execution_count": 279,
   "metadata": {
    "colab": {
     "base_uri": "https://localhost:8080/",
     "height": 34
    },
    "colab_type": "code",
    "id": "h3EldSQCa89F",
    "outputId": "98fce5c8-4835-4eba-bc99-b55e42c4b62c"
   },
   "outputs": [
    {
     "name": "stdout",
     "output_type": "stream",
     "text": [
      "900 347\n"
     ]
    }
   ],
   "source": [
    "print(len(train_others), len(val_others))"
   ]
  },
  {
   "cell_type": "code",
   "execution_count": 280,
   "metadata": {
    "colab": {},
    "colab_type": "code",
    "id": "5g9ARut6bAeC"
   },
   "outputs": [],
   "source": [
    "train = []\n",
    "train += train_covid\n",
    "train += train_healthy\n",
    "train += train_others"
   ]
  },
  {
   "cell_type": "code",
   "execution_count": 281,
   "metadata": {
    "colab": {
     "base_uri": "https://localhost:8080/",
     "height": 34
    },
    "colab_type": "code",
    "id": "Z9jSskHOk5CA",
    "outputId": "79b79241-8f10-4308-ef7e-8593db178954"
   },
   "outputs": [
    {
     "data": {
      "text/plain": [
       "2900"
      ]
     },
     "execution_count": 281,
     "metadata": {
      "tags": []
     },
     "output_type": "execute_result"
    }
   ],
   "source": [
    "len(train)"
   ]
  },
  {
   "cell_type": "code",
   "execution_count": 282,
   "metadata": {
    "colab": {},
    "colab_type": "code",
    "id": "U6ZSlhk1lEA1"
   },
   "outputs": [],
   "source": [
    "val = []\n",
    "val += val_covid\n",
    "val += val_healthy\n",
    "val += val_others"
   ]
  },
  {
   "cell_type": "code",
   "execution_count": 283,
   "metadata": {
    "colab": {},
    "colab_type": "code",
    "id": "e9v-1bn0lz-u"
   },
   "outputs": [],
   "source": [
    "shuffle(train)\n",
    "shuffle(val)"
   ]
  },
  {
   "cell_type": "code",
   "execution_count": 284,
   "metadata": {
    "colab": {},
    "colab_type": "code",
    "id": "RN1m-uHwl18v"
   },
   "outputs": [],
   "source": [
    "train_data_loader = torch.utils.data.DataLoader(train, batch_size=128, shuffle=True)"
   ]
  },
  {
   "cell_type": "code",
   "execution_count": 285,
   "metadata": {
    "colab": {},
    "colab_type": "code",
    "id": "6hMr9yRGmD2z"
   },
   "outputs": [],
   "source": [
    "val_data_loader = torch.utils.data.DataLoader(val, batch_size=128, shuffle=True)"
   ]
  },
  {
   "cell_type": "code",
   "execution_count": 294,
   "metadata": {
    "colab": {},
    "colab_type": "code",
    "id": "kP33pAG3EBkl"
   },
   "outputs": [],
   "source": [
    "class demirnet(nn.Module):\n",
    "    \n",
    "    def __init__(self):\n",
    "        \n",
    "        super(demirnet, self).__init__()\n",
    "        self.conv1 = nn.Conv2d(in_channels=3, out_channels=64, kernel_size= 3)\n",
    "        self.maxpool1 = nn.MaxPool2d(kernel_size=2, stride=2)\n",
    "        self.conv2 = nn.Conv2d(in_channels=64, out_channels=128, kernel_size= 3)\n",
    "\n",
    "        self.batch1 = nn.BatchNorm2d(128)\n",
    "\n",
    "        self.conv3 = nn.Conv2d(in_channels=128, out_channels=256, kernel_size= 3)\n",
    "\n",
    "        self.batch2 = nn.BatchNorm2d(256)\n",
    "\n",
    "        self.conv4 = nn.Conv2d(in_channels=256, out_channels=256, kernel_size= 3)\n",
    "\n",
    "        self.maxpool2 = nn.MaxPool2d(kernel_size=2, stride=2)\n",
    "\n",
    "        self.conv5 = nn.Conv2d(in_channels=256, out_channels=512, kernel_size= 3)\n",
    "\n",
    "        self.batch3 = nn.BatchNorm2d(512)\n",
    "\n",
    "        self.conv6 = nn.Conv2d(in_channels=512, out_channels=1024, kernel_size= 3)\n",
    "\n",
    "        self.batch4 = nn.BatchNorm2d(1024)\n",
    "\n",
    "        self.conv7 = nn.Conv2d(in_channels=1024, out_channels=512, kernel_size= 3)\n",
    "\n",
    "        self.maxpool3 = nn.MaxPool2d(kernel_size=2, stride=2)\n",
    "\n",
    "        self.conv8 = nn.Conv2d(in_channels=512, out_channels=256, kernel_size= 3)\n",
    "\n",
    "        self.batch5 = nn.BatchNorm2d(256)\n",
    "\n",
    "        self.conv9 = nn.Conv2d(in_channels=256, out_channels=128, kernel_size= 3)\n",
    "        \n",
    "        self.batch6 = nn.BatchNorm2d(128)\n",
    "\n",
    "        self.fc1 = nn.Linear(12800, 6000)\n",
    "        self.fc2 = nn.Linear(6000, 1000)\n",
    "        self.drop = nn.Dropout(p =float(0.5), inplace=bool(False))\n",
    "        self.fc3 = nn.Linear(1000, 3)\n",
    "\n",
    "\n",
    "    def forward(self, x):\n",
    "        x = F.leaky_relu(self.conv1(x))\n",
    "        x = self.maxpool1(x)\n",
    "        x = F.leaky_relu(self.conv2(x))\n",
    "        x = self.batch1(x)\n",
    "        x = F.leaky_relu(self.conv3(x))\n",
    "        x = self.batch2(x)\n",
    "        x = F.leaky_relu(self.conv4(x))\n",
    "        x = self.maxpool2(x)\n",
    "        x = F.leaky_relu(self.conv5(x))\n",
    "        x = self.batch3(x)\n",
    "        x = F.leaky_relu(self.conv6(x))\n",
    "        x = self.batch4(x)\n",
    "        x = F.leaky_relu(self.conv7(x))\n",
    "        x = self.maxpool3(x)\n",
    "        x = F.leaky_relu(self.conv8(x))\n",
    "        x = self.batch5(x)\n",
    "        x = F.leaky_relu(self.conv9(x))\n",
    "        x = self.batch6(x)\n",
    "        x = x.view(x.size(0), -1)\n",
    "        x = F.leaky_relu(self.fc1(x))\n",
    "        x = F.leaky_relu(self.fc2(x))\n",
    "        x = self.drop(x)\n",
    "        x = F.log_softmax(self.fc3(x), dim=1)\n",
    "        \n",
    "        return x\n",
    "\n",
    "    def __conv__(self):\n",
    "\n",
    "        return [self.conv1, self.conv2, self.conv3, self.conv4, self.conv5, self.conv6, self.conv7, self.conv8, self.conv9]"
   ]
  },
  {
   "cell_type": "code",
   "execution_count": 295,
   "metadata": {
    "colab": {},
    "colab_type": "code",
    "id": "CVsWWRYJS-xi"
   },
   "outputs": [],
   "source": [
    "model = demirnet()\n",
    "device = torch.device(\"cuda\")\n",
    "model=model.to(device) "
   ]
  },
  {
   "cell_type": "code",
   "execution_count": 296,
   "metadata": {
    "colab": {
     "base_uri": "https://localhost:8080/",
     "height": 173
    },
    "colab_type": "code",
    "id": "wbqu-6re2t6M",
    "outputId": "3a162c8f-bc2e-41e7-e0e5-92911abba0ac"
   },
   "outputs": [
    {
     "name": "stdout",
     "output_type": "stream",
     "text": [
      "a\n",
      "a\n",
      "a\n",
      "a\n",
      "a\n",
      "a\n",
      "a\n",
      "a\n",
      "a\n"
     ]
    }
   ],
   "source": [
    "def gain(a):\n",
    "    return math.sqrt(2.0 / (1 + a**2))\n",
    "\n",
    "def kaiming_uniform(x, a):\n",
    "    n = x[0].shape.numel()\n",
    "    std = gain(a) / math.sqrt(n)\n",
    "    bound = math.sqrt(3.) * std\n",
    "    x.data.uniform_(-bound, bound)\n",
    "\n",
    "for l in model.__conv__():\n",
    "  print(\"a\")\n",
    "  kaiming_uniform(l.weight, a = 0)\n",
    "  l.bias.data.zero_()"
   ]
  },
  {
   "cell_type": "code",
   "execution_count": 297,
   "metadata": {
    "colab": {
     "base_uri": "https://localhost:8080/",
     "height": 451
    },
    "colab_type": "code",
    "id": "qLTnJp6h2xJv",
    "outputId": "66f6ab08-fb43-43e7-c21d-1ef5439dc371"
   },
   "outputs": [
    {
     "name": "stdout",
     "output_type": "stream",
     "text": [
      "demirnet(\n",
      "  (conv1): Conv2d(3, 64, kernel_size=(3, 3), stride=(1, 1))\n",
      "  (maxpool1): MaxPool2d(kernel_size=2, stride=2, padding=0, dilation=1, ceil_mode=False)\n",
      "  (conv2): Conv2d(64, 128, kernel_size=(3, 3), stride=(1, 1))\n",
      "  (batch1): BatchNorm2d(128, eps=1e-05, momentum=0.1, affine=True, track_running_stats=True)\n",
      "  (conv3): Conv2d(128, 256, kernel_size=(3, 3), stride=(1, 1))\n",
      "  (batch2): BatchNorm2d(256, eps=1e-05, momentum=0.1, affine=True, track_running_stats=True)\n",
      "  (conv4): Conv2d(256, 256, kernel_size=(3, 3), stride=(1, 1))\n",
      "  (maxpool2): MaxPool2d(kernel_size=2, stride=2, padding=0, dilation=1, ceil_mode=False)\n",
      "  (conv5): Conv2d(256, 512, kernel_size=(3, 3), stride=(1, 1))\n",
      "  (batch3): BatchNorm2d(512, eps=1e-05, momentum=0.1, affine=True, track_running_stats=True)\n",
      "  (conv6): Conv2d(512, 1024, kernel_size=(3, 3), stride=(1, 1))\n",
      "  (batch4): BatchNorm2d(1024, eps=1e-05, momentum=0.1, affine=True, track_running_stats=True)\n",
      "  (conv7): Conv2d(1024, 512, kernel_size=(3, 3), stride=(1, 1))\n",
      "  (maxpool3): MaxPool2d(kernel_size=2, stride=2, padding=0, dilation=1, ceil_mode=False)\n",
      "  (conv8): Conv2d(512, 256, kernel_size=(3, 3), stride=(1, 1))\n",
      "  (batch5): BatchNorm2d(256, eps=1e-05, momentum=0.1, affine=True, track_running_stats=True)\n",
      "  (conv9): Conv2d(256, 128, kernel_size=(3, 3), stride=(1, 1))\n",
      "  (batch6): BatchNorm2d(128, eps=1e-05, momentum=0.1, affine=True, track_running_stats=True)\n",
      "  (fc1): Linear(in_features=12800, out_features=6000, bias=True)\n",
      "  (fc2): Linear(in_features=6000, out_features=1000, bias=True)\n",
      "  (drop): Dropout(p=0.5, inplace=False)\n",
      "  (fc3): Linear(in_features=1000, out_features=3, bias=True)\n",
      ")\n",
      "Model =  cuda:0  da eğitilecek\n"
     ]
    }
   ],
   "source": [
    "print(model)\n",
    "\n",
    "print(\"Model = \",next(model.parameters()).device,\" da eğitilecek\")"
   ]
  },
  {
   "cell_type": "code",
   "execution_count": 298,
   "metadata": {
    "colab": {},
    "colab_type": "code",
    "id": "k6-3HE-33ExJ"
   },
   "outputs": [],
   "source": [
    "loss_func = nn.CrossEntropyLoss()\n",
    "\n",
    "opt = optim.Adam(model.parameters(), lr=1e-4)"
   ]
  },
  {
   "cell_type": "code",
   "execution_count": 299,
   "metadata": {
    "colab": {},
    "colab_type": "code",
    "id": "WECo6_6nBrDL"
   },
   "outputs": [],
   "source": [
    "def metrics_batch(target, output):\n",
    "    pred = output.argmax(dim=1, keepdim=True)\n",
    "    \n",
    "    corrects=pred.eq(target.view_as(pred)).sum().item()\n",
    "    return corrects"
   ]
  },
  {
   "cell_type": "code",
   "execution_count": 300,
   "metadata": {
    "colab": {},
    "colab_type": "code",
    "id": "0GlqmS7PBsgl"
   },
   "outputs": [],
   "source": [
    "def loss_batch(loss_func, xb, yb,yb_h, opt=None):\n",
    "    \n",
    "    loss = loss_func(yb_h, yb)\n",
    "    \n",
    "    metric_b = metrics_batch(yb,yb_h)\n",
    "    \n",
    "    if opt is not None:\n",
    "        loss.backward() \n",
    "        opt.step() \n",
    "        opt.zero_grad() \n",
    "\n",
    "    return loss.item(), metric_b"
   ]
  },
  {
   "cell_type": "code",
   "execution_count": 301,
   "metadata": {
    "colab": {},
    "colab_type": "code",
    "id": "a4eyeIu7BuIJ"
   },
   "outputs": [],
   "source": [
    "def loss_epoch(model,loss_func,dataset_dl,opt=None):\n",
    "    \n",
    "    loss=0.0\n",
    "    metric=0.0\n",
    "    len_data=len(dataset_dl.dataset)\n",
    "    for xb, yb in dataset_dl:\n",
    "        xb=xb.type(torch.float).to(device)\n",
    "        yb=yb.to(device)\n",
    "        \n",
    "        yb_h=model(xb)\n",
    "\n",
    "        loss_b,metric_b=loss_batch(loss_func, xb, yb,yb_h, opt)\n",
    "        loss+=loss_b\n",
    "        if metric_b is not None:\n",
    "            metric+=metric_b\n",
    "            \n",
    "    loss/=len_data \n",
    "    metric/=len_data\n",
    "    return loss, metric"
   ]
  },
  {
   "cell_type": "code",
   "execution_count": 302,
   "metadata": {
    "colab": {},
    "colab_type": "code",
    "id": "DGfAJZr0Bv-g"
   },
   "outputs": [],
   "source": [
    "def train_val(epochs, model, loss_func, opt, train_dl, val_dl):\n",
    "\n",
    "  top_train_loss = []\n",
    "  top_val_loss = []\n",
    "  top_train_metric = []\n",
    "  top_val_metric = []\n",
    "    \n",
    "  for epoch in range(epochs):\n",
    "      \n",
    "    model.train()\n",
    "    train_loss, train_metric=loss_epoch(model,loss_func,train_dl,opt)\n",
    "    top_train_loss.append(train_loss)\n",
    "    top_train_metric.append(train_metric)\n",
    "            \n",
    "    model.eval()\n",
    "    with torch.no_grad():\n",
    "      val_loss, val_metric=loss_epoch(model,loss_func,val_dl)\n",
    "      top_val_loss.append(val_loss)\n",
    "      top_val_metric.append(val_metric)\n",
    "\n",
    "      print(\"epoch: %d, train loss: %.6f, val loss: %.6f, train accuracy: %.6f, val accuracy: %.6f\" %(epoch, train_loss, val_loss, train_metric, val_metric))\n",
    "\n",
    "  return top_train_loss, top_val_loss, top_train_metric, top_val_metric"
   ]
  },
  {
   "cell_type": "markdown",
   "metadata": {
    "colab_type": "text",
    "id": "Y0dSJraO-fbr"
   },
   "source": [
    "# Training with our init"
   ]
  },
  {
   "cell_type": "code",
   "execution_count": 303,
   "metadata": {
    "colab": {
     "base_uri": "https://localhost:8080/",
     "height": 278
    },
    "colab_type": "code",
    "id": "AojsTC3CBxrk",
    "outputId": "941b1aad-301c-4ba9-a593-e5e1580fb9ae"
   },
   "outputs": [
    {
     "name": "stdout",
     "output_type": "stream",
     "text": [
      "epoch: 0, train loss: 0.006640, val loss: 0.010087, train accuracy: 0.598621, val accuracy: 0.535799\n",
      "epoch: 1, train loss: 0.003979, val loss: 0.009250, train accuracy: 0.789310, val accuracy: 0.578285\n",
      "epoch: 2, train loss: 0.001702, val loss: 0.006415, train accuracy: 0.917931, val accuracy: 0.693155\n",
      "epoch: 3, train loss: 0.000781, val loss: 0.005196, train accuracy: 0.971724, val accuracy: 0.773407\n",
      "epoch: 4, train loss: 0.001204, val loss: 0.007770, train accuracy: 0.945172, val accuracy: 0.708891\n",
      "epoch: 5, train loss: 0.000809, val loss: 0.004901, train accuracy: 0.963103, val accuracy: 0.780488\n",
      "epoch: 6, train loss: 0.000629, val loss: 0.005059, train accuracy: 0.973448, val accuracy: 0.817467\n",
      "epoch: 7, train loss: 0.000552, val loss: 0.005827, train accuracy: 0.974138, val accuracy: 0.778127\n",
      "epoch: 8, train loss: 0.000279, val loss: 0.005384, train accuracy: 0.987586, val accuracy: 0.816680\n",
      "epoch: 9, train loss: 0.000204, val loss: 0.005577, train accuracy: 0.990000, val accuracy: 0.803304\n",
      "epoch: 10, train loss: 0.000141, val loss: 0.005683, train accuracy: 0.993103, val accuracy: 0.830842\n",
      "epoch: 11, train loss: 0.000134, val loss: 0.007249, train accuracy: 0.992759, val accuracy: 0.799371\n",
      "epoch: 12, train loss: 0.000181, val loss: 0.006835, train accuracy: 0.992414, val accuracy: 0.785208\n",
      "epoch: 13, train loss: 0.000257, val loss: 0.007411, train accuracy: 0.988966, val accuracy: 0.797010\n",
      "epoch: 14, train loss: 0.000504, val loss: 0.007308, train accuracy: 0.979655, val accuracy: 0.781275\n"
     ]
    }
   ],
   "source": [
    "num_epochs=15\n",
    "top_train_loss, top_val_loss, top_train_metric, top_val_metric = train_val(num_epochs, model, loss_func, opt, train_data_loader, val_data_loader)"
   ]
  },
  {
   "cell_type": "code",
   "execution_count": 304,
   "metadata": {
    "colab": {
     "base_uri": "https://localhost:8080/",
     "height": 573
    },
    "colab_type": "code",
    "id": "mF2HO7_60QQE",
    "outputId": "135a4467-5203-4004-cbcd-887c22eb54d6"
   },
   "outputs": [
    {
     "data": {
      "image/png": "[encoded data removed]",
      "text/plain": [
       "<Figure size 432x288 with 1 Axes>"
      ]
     },
     "metadata": {
      "needs_background": "light",
      "tags": []
     },
     "output_type": "display_data"
    },
    {
     "data": {
      "image/png": "[encoded data removed]",
      "text/plain": [
       "<Figure size 432x288 with 1 Axes>"
      ]
     },
     "metadata": {
      "needs_background": "light",
      "tags": []
     },
     "output_type": "display_data"
    }
   ],
   "source": [
    "plt.title(\"Train-Val Loss\")\n",
    "plt.plot(range(1,num_epochs+1),top_train_loss,label=\"train\")\n",
    "plt.plot(range(1,num_epochs+1),top_val_loss,label=\"val\")\n",
    "plt.ylabel(\"Loss\")\n",
    "plt.xlabel(\"Training Epochs\")\n",
    "plt.legend()\n",
    "plt.show()\n",
    "\n",
    "# plot accuracy progress\n",
    "plt.title(\"Train-Val Accuracy\")\n",
    "plt.plot(range(1,num_epochs+1),top_train_metric,label=\"train\")\n",
    "plt.plot(range(1,num_epochs+1),top_val_metric,label=\"val\")\n",
    "plt.ylabel(\"Accuracy\")\n",
    "plt.xlabel(\"Training Epochs\")\n",
    "plt.legend()\n",
    "plt.show()"
   ]
  }
 ],
 "metadata": {
  "accelerator": "GPU",
  "colab": {
   "collapsed_sections": [],
   "machine_shape": "hm",
   "name": "initialization_covid19.ipynb",
   "provenance": []
  },
  "kernelspec": {
   "display_name": "Python 3",
   "language": "python",
   "name": "python3"
  },
  "language_info": {
   "codemirror_mode": {
    "name": "ipython",
    "version": 3
   },
   "file_extension": ".py",
   "mimetype": "text/x-python",
   "name": "python",
   "nbconvert_exporter": "python",
   "pygments_lexer": "ipython3",
   "version": "3.7.3"
  }
 },
 "nbformat": 4,
 "nbformat_minor": 1
}
